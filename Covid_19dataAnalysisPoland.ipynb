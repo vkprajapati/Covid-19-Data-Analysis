{
  "nbformat": 4,
  "nbformat_minor": 0,
  "metadata": {
    "colab": {
      "name": "Covid-19dataAnalysisPoland.ipynb",
      "provenance": [],
      "authorship_tag": "ABX9TyPLz0UTQNsQoCCQBn6POzKs",
      "include_colab_link": true
    },
    "kernelspec": {
      "name": "python3",
      "display_name": "Python 3"
    },
    "language_info": {
      "name": "python"
    }
  },
  "cells": [
    {
      "cell_type": "markdown",
      "metadata": {
        "id": "view-in-github",
        "colab_type": "text"
      },
      "source": [
        "<a href=\"https://colab.research.google.com/github/vkprajapati/Covid-19-Time-Series-Data-Analysis/blob/master/Covid_19dataAnalysisPoland.ipynb\" target=\"_parent\"><img src=\"https://colab.research.google.com/assets/colab-badge.svg\" alt=\"Open In Colab\"/></a>"
      ]
    },
    {
      "cell_type": "code",
      "metadata": {
        "id": "A9Ns7FSuf4SB"
      },
      "source": [
        "import numpy as np\n",
        "import torch\n",
        "import pandas as pd\n",
        "import matplotlib.pyplot as plt"
      ],
      "execution_count": 87,
      "outputs": []
    },
    {
      "cell_type": "code",
      "metadata": {
        "colab": {
          "base_uri": "https://localhost:8080/"
        },
        "id": "ROwMrOxrf7fb",
        "outputId": "dcc0e307-d8eb-414a-ec00-7683f94486b7"
      },
      "source": [
        "from google.colab import drive\n",
        "drive.mount('/content/drive')"
      ],
      "execution_count": 88,
      "outputs": [
        {
          "output_type": "stream",
          "text": [
            "Drive already mounted at /content/drive; to attempt to forcibly remount, call drive.mount(\"/content/drive\", force_remount=True).\n"
          ],
          "name": "stdout"
        }
      ]
    },
    {
      "cell_type": "code",
      "metadata": {
        "id": "yCIpGEw-jVY3",
        "colab": {
          "base_uri": "https://localhost:8080/",
          "height": 307
        },
        "outputId": "b4ff9e60-4097-4251-c82c-aaea6253191f"
      },
      "source": [
        "\n",
        "#Loading Dataset\n",
        "df = pd.read_csv('owid-covid-data.csv')\n",
        "#Visualize data\n",
        "df.head()"
      ],
      "execution_count": 89,
      "outputs": [
        {
          "output_type": "execute_result",
          "data": {
            "text/html": [
              "<div>\n",
              "<style scoped>\n",
              "    .dataframe tbody tr th:only-of-type {\n",
              "        vertical-align: middle;\n",
              "    }\n",
              "\n",
              "    .dataframe tbody tr th {\n",
              "        vertical-align: top;\n",
              "    }\n",
              "\n",
              "    .dataframe thead th {\n",
              "        text-align: right;\n",
              "    }\n",
              "</style>\n",
              "<table border=\"1\" class=\"dataframe\">\n",
              "  <thead>\n",
              "    <tr style=\"text-align: right;\">\n",
              "      <th></th>\n",
              "      <th>iso_code</th>\n",
              "      <th>continent</th>\n",
              "      <th>location</th>\n",
              "      <th>date</th>\n",
              "      <th>total_cases</th>\n",
              "      <th>new_cases</th>\n",
              "      <th>new_cases_smoothed</th>\n",
              "      <th>total_deaths</th>\n",
              "      <th>new_deaths</th>\n",
              "      <th>new_deaths_smoothed</th>\n",
              "      <th>total_cases_per_million</th>\n",
              "      <th>new_cases_per_million</th>\n",
              "      <th>new_cases_smoothed_per_million</th>\n",
              "      <th>total_deaths_per_million</th>\n",
              "      <th>new_deaths_per_million</th>\n",
              "      <th>new_deaths_smoothed_per_million</th>\n",
              "      <th>reproduction_rate</th>\n",
              "      <th>icu_patients</th>\n",
              "      <th>icu_patients_per_million</th>\n",
              "      <th>hosp_patients</th>\n",
              "      <th>hosp_patients_per_million</th>\n",
              "      <th>weekly_icu_admissions</th>\n",
              "      <th>weekly_icu_admissions_per_million</th>\n",
              "      <th>weekly_hosp_admissions</th>\n",
              "      <th>weekly_hosp_admissions_per_million</th>\n",
              "      <th>new_tests</th>\n",
              "      <th>total_tests</th>\n",
              "      <th>total_tests_per_thousand</th>\n",
              "      <th>new_tests_per_thousand</th>\n",
              "      <th>new_tests_smoothed</th>\n",
              "      <th>new_tests_smoothed_per_thousand</th>\n",
              "      <th>positive_rate</th>\n",
              "      <th>tests_per_case</th>\n",
              "      <th>tests_units</th>\n",
              "      <th>total_vaccinations</th>\n",
              "      <th>people_vaccinated</th>\n",
              "      <th>people_fully_vaccinated</th>\n",
              "      <th>new_vaccinations</th>\n",
              "      <th>new_vaccinations_smoothed</th>\n",
              "      <th>total_vaccinations_per_hundred</th>\n",
              "      <th>people_vaccinated_per_hundred</th>\n",
              "      <th>people_fully_vaccinated_per_hundred</th>\n",
              "      <th>new_vaccinations_smoothed_per_million</th>\n",
              "      <th>stringency_index</th>\n",
              "      <th>population</th>\n",
              "      <th>population_density</th>\n",
              "      <th>median_age</th>\n",
              "      <th>aged_65_older</th>\n",
              "      <th>aged_70_older</th>\n",
              "      <th>gdp_per_capita</th>\n",
              "      <th>extreme_poverty</th>\n",
              "      <th>cardiovasc_death_rate</th>\n",
              "      <th>diabetes_prevalence</th>\n",
              "      <th>female_smokers</th>\n",
              "      <th>male_smokers</th>\n",
              "      <th>handwashing_facilities</th>\n",
              "      <th>hospital_beds_per_thousand</th>\n",
              "      <th>life_expectancy</th>\n",
              "      <th>human_development_index</th>\n",
              "      <th>excess_mortality</th>\n",
              "    </tr>\n",
              "  </thead>\n",
              "  <tbody>\n",
              "    <tr>\n",
              "      <th>0</th>\n",
              "      <td>AFG</td>\n",
              "      <td>Asia</td>\n",
              "      <td>Afghanistan</td>\n",
              "      <td>2020-02-24</td>\n",
              "      <td>1.0</td>\n",
              "      <td>1.0</td>\n",
              "      <td>NaN</td>\n",
              "      <td>NaN</td>\n",
              "      <td>NaN</td>\n",
              "      <td>NaN</td>\n",
              "      <td>0.026</td>\n",
              "      <td>0.026</td>\n",
              "      <td>NaN</td>\n",
              "      <td>NaN</td>\n",
              "      <td>NaN</td>\n",
              "      <td>NaN</td>\n",
              "      <td>NaN</td>\n",
              "      <td>NaN</td>\n",
              "      <td>NaN</td>\n",
              "      <td>NaN</td>\n",
              "      <td>NaN</td>\n",
              "      <td>NaN</td>\n",
              "      <td>NaN</td>\n",
              "      <td>NaN</td>\n",
              "      <td>NaN</td>\n",
              "      <td>NaN</td>\n",
              "      <td>NaN</td>\n",
              "      <td>NaN</td>\n",
              "      <td>NaN</td>\n",
              "      <td>NaN</td>\n",
              "      <td>NaN</td>\n",
              "      <td>NaN</td>\n",
              "      <td>NaN</td>\n",
              "      <td>NaN</td>\n",
              "      <td>NaN</td>\n",
              "      <td>NaN</td>\n",
              "      <td>NaN</td>\n",
              "      <td>NaN</td>\n",
              "      <td>NaN</td>\n",
              "      <td>NaN</td>\n",
              "      <td>NaN</td>\n",
              "      <td>NaN</td>\n",
              "      <td>NaN</td>\n",
              "      <td>8.33</td>\n",
              "      <td>38928341.0</td>\n",
              "      <td>54.422</td>\n",
              "      <td>18.6</td>\n",
              "      <td>2.581</td>\n",
              "      <td>1.337</td>\n",
              "      <td>1803.987</td>\n",
              "      <td>NaN</td>\n",
              "      <td>597.029</td>\n",
              "      <td>9.59</td>\n",
              "      <td>NaN</td>\n",
              "      <td>NaN</td>\n",
              "      <td>37.746</td>\n",
              "      <td>0.5</td>\n",
              "      <td>64.83</td>\n",
              "      <td>0.511</td>\n",
              "      <td>NaN</td>\n",
              "    </tr>\n",
              "    <tr>\n",
              "      <th>1</th>\n",
              "      <td>AFG</td>\n",
              "      <td>Asia</td>\n",
              "      <td>Afghanistan</td>\n",
              "      <td>2020-02-25</td>\n",
              "      <td>1.0</td>\n",
              "      <td>0.0</td>\n",
              "      <td>NaN</td>\n",
              "      <td>NaN</td>\n",
              "      <td>NaN</td>\n",
              "      <td>NaN</td>\n",
              "      <td>0.026</td>\n",
              "      <td>0.000</td>\n",
              "      <td>NaN</td>\n",
              "      <td>NaN</td>\n",
              "      <td>NaN</td>\n",
              "      <td>NaN</td>\n",
              "      <td>NaN</td>\n",
              "      <td>NaN</td>\n",
              "      <td>NaN</td>\n",
              "      <td>NaN</td>\n",
              "      <td>NaN</td>\n",
              "      <td>NaN</td>\n",
              "      <td>NaN</td>\n",
              "      <td>NaN</td>\n",
              "      <td>NaN</td>\n",
              "      <td>NaN</td>\n",
              "      <td>NaN</td>\n",
              "      <td>NaN</td>\n",
              "      <td>NaN</td>\n",
              "      <td>NaN</td>\n",
              "      <td>NaN</td>\n",
              "      <td>NaN</td>\n",
              "      <td>NaN</td>\n",
              "      <td>NaN</td>\n",
              "      <td>NaN</td>\n",
              "      <td>NaN</td>\n",
              "      <td>NaN</td>\n",
              "      <td>NaN</td>\n",
              "      <td>NaN</td>\n",
              "      <td>NaN</td>\n",
              "      <td>NaN</td>\n",
              "      <td>NaN</td>\n",
              "      <td>NaN</td>\n",
              "      <td>8.33</td>\n",
              "      <td>38928341.0</td>\n",
              "      <td>54.422</td>\n",
              "      <td>18.6</td>\n",
              "      <td>2.581</td>\n",
              "      <td>1.337</td>\n",
              "      <td>1803.987</td>\n",
              "      <td>NaN</td>\n",
              "      <td>597.029</td>\n",
              "      <td>9.59</td>\n",
              "      <td>NaN</td>\n",
              "      <td>NaN</td>\n",
              "      <td>37.746</td>\n",
              "      <td>0.5</td>\n",
              "      <td>64.83</td>\n",
              "      <td>0.511</td>\n",
              "      <td>NaN</td>\n",
              "    </tr>\n",
              "    <tr>\n",
              "      <th>2</th>\n",
              "      <td>AFG</td>\n",
              "      <td>Asia</td>\n",
              "      <td>Afghanistan</td>\n",
              "      <td>2020-02-26</td>\n",
              "      <td>1.0</td>\n",
              "      <td>0.0</td>\n",
              "      <td>NaN</td>\n",
              "      <td>NaN</td>\n",
              "      <td>NaN</td>\n",
              "      <td>NaN</td>\n",
              "      <td>0.026</td>\n",
              "      <td>0.000</td>\n",
              "      <td>NaN</td>\n",
              "      <td>NaN</td>\n",
              "      <td>NaN</td>\n",
              "      <td>NaN</td>\n",
              "      <td>NaN</td>\n",
              "      <td>NaN</td>\n",
              "      <td>NaN</td>\n",
              "      <td>NaN</td>\n",
              "      <td>NaN</td>\n",
              "      <td>NaN</td>\n",
              "      <td>NaN</td>\n",
              "      <td>NaN</td>\n",
              "      <td>NaN</td>\n",
              "      <td>NaN</td>\n",
              "      <td>NaN</td>\n",
              "      <td>NaN</td>\n",
              "      <td>NaN</td>\n",
              "      <td>NaN</td>\n",
              "      <td>NaN</td>\n",
              "      <td>NaN</td>\n",
              "      <td>NaN</td>\n",
              "      <td>NaN</td>\n",
              "      <td>NaN</td>\n",
              "      <td>NaN</td>\n",
              "      <td>NaN</td>\n",
              "      <td>NaN</td>\n",
              "      <td>NaN</td>\n",
              "      <td>NaN</td>\n",
              "      <td>NaN</td>\n",
              "      <td>NaN</td>\n",
              "      <td>NaN</td>\n",
              "      <td>8.33</td>\n",
              "      <td>38928341.0</td>\n",
              "      <td>54.422</td>\n",
              "      <td>18.6</td>\n",
              "      <td>2.581</td>\n",
              "      <td>1.337</td>\n",
              "      <td>1803.987</td>\n",
              "      <td>NaN</td>\n",
              "      <td>597.029</td>\n",
              "      <td>9.59</td>\n",
              "      <td>NaN</td>\n",
              "      <td>NaN</td>\n",
              "      <td>37.746</td>\n",
              "      <td>0.5</td>\n",
              "      <td>64.83</td>\n",
              "      <td>0.511</td>\n",
              "      <td>NaN</td>\n",
              "    </tr>\n",
              "    <tr>\n",
              "      <th>3</th>\n",
              "      <td>AFG</td>\n",
              "      <td>Asia</td>\n",
              "      <td>Afghanistan</td>\n",
              "      <td>2020-02-27</td>\n",
              "      <td>1.0</td>\n",
              "      <td>0.0</td>\n",
              "      <td>NaN</td>\n",
              "      <td>NaN</td>\n",
              "      <td>NaN</td>\n",
              "      <td>NaN</td>\n",
              "      <td>0.026</td>\n",
              "      <td>0.000</td>\n",
              "      <td>NaN</td>\n",
              "      <td>NaN</td>\n",
              "      <td>NaN</td>\n",
              "      <td>NaN</td>\n",
              "      <td>NaN</td>\n",
              "      <td>NaN</td>\n",
              "      <td>NaN</td>\n",
              "      <td>NaN</td>\n",
              "      <td>NaN</td>\n",
              "      <td>NaN</td>\n",
              "      <td>NaN</td>\n",
              "      <td>NaN</td>\n",
              "      <td>NaN</td>\n",
              "      <td>NaN</td>\n",
              "      <td>NaN</td>\n",
              "      <td>NaN</td>\n",
              "      <td>NaN</td>\n",
              "      <td>NaN</td>\n",
              "      <td>NaN</td>\n",
              "      <td>NaN</td>\n",
              "      <td>NaN</td>\n",
              "      <td>NaN</td>\n",
              "      <td>NaN</td>\n",
              "      <td>NaN</td>\n",
              "      <td>NaN</td>\n",
              "      <td>NaN</td>\n",
              "      <td>NaN</td>\n",
              "      <td>NaN</td>\n",
              "      <td>NaN</td>\n",
              "      <td>NaN</td>\n",
              "      <td>NaN</td>\n",
              "      <td>8.33</td>\n",
              "      <td>38928341.0</td>\n",
              "      <td>54.422</td>\n",
              "      <td>18.6</td>\n",
              "      <td>2.581</td>\n",
              "      <td>1.337</td>\n",
              "      <td>1803.987</td>\n",
              "      <td>NaN</td>\n",
              "      <td>597.029</td>\n",
              "      <td>9.59</td>\n",
              "      <td>NaN</td>\n",
              "      <td>NaN</td>\n",
              "      <td>37.746</td>\n",
              "      <td>0.5</td>\n",
              "      <td>64.83</td>\n",
              "      <td>0.511</td>\n",
              "      <td>NaN</td>\n",
              "    </tr>\n",
              "    <tr>\n",
              "      <th>4</th>\n",
              "      <td>AFG</td>\n",
              "      <td>Asia</td>\n",
              "      <td>Afghanistan</td>\n",
              "      <td>2020-02-28</td>\n",
              "      <td>1.0</td>\n",
              "      <td>0.0</td>\n",
              "      <td>NaN</td>\n",
              "      <td>NaN</td>\n",
              "      <td>NaN</td>\n",
              "      <td>NaN</td>\n",
              "      <td>0.026</td>\n",
              "      <td>0.000</td>\n",
              "      <td>NaN</td>\n",
              "      <td>NaN</td>\n",
              "      <td>NaN</td>\n",
              "      <td>NaN</td>\n",
              "      <td>NaN</td>\n",
              "      <td>NaN</td>\n",
              "      <td>NaN</td>\n",
              "      <td>NaN</td>\n",
              "      <td>NaN</td>\n",
              "      <td>NaN</td>\n",
              "      <td>NaN</td>\n",
              "      <td>NaN</td>\n",
              "      <td>NaN</td>\n",
              "      <td>NaN</td>\n",
              "      <td>NaN</td>\n",
              "      <td>NaN</td>\n",
              "      <td>NaN</td>\n",
              "      <td>NaN</td>\n",
              "      <td>NaN</td>\n",
              "      <td>NaN</td>\n",
              "      <td>NaN</td>\n",
              "      <td>NaN</td>\n",
              "      <td>NaN</td>\n",
              "      <td>NaN</td>\n",
              "      <td>NaN</td>\n",
              "      <td>NaN</td>\n",
              "      <td>NaN</td>\n",
              "      <td>NaN</td>\n",
              "      <td>NaN</td>\n",
              "      <td>NaN</td>\n",
              "      <td>NaN</td>\n",
              "      <td>8.33</td>\n",
              "      <td>38928341.0</td>\n",
              "      <td>54.422</td>\n",
              "      <td>18.6</td>\n",
              "      <td>2.581</td>\n",
              "      <td>1.337</td>\n",
              "      <td>1803.987</td>\n",
              "      <td>NaN</td>\n",
              "      <td>597.029</td>\n",
              "      <td>9.59</td>\n",
              "      <td>NaN</td>\n",
              "      <td>NaN</td>\n",
              "      <td>37.746</td>\n",
              "      <td>0.5</td>\n",
              "      <td>64.83</td>\n",
              "      <td>0.511</td>\n",
              "      <td>NaN</td>\n",
              "    </tr>\n",
              "  </tbody>\n",
              "</table>\n",
              "</div>"
            ],
            "text/plain": [
              "  iso_code continent  ... human_development_index excess_mortality\n",
              "0      AFG      Asia  ...                   0.511              NaN\n",
              "1      AFG      Asia  ...                   0.511              NaN\n",
              "2      AFG      Asia  ...                   0.511              NaN\n",
              "3      AFG      Asia  ...                   0.511              NaN\n",
              "4      AFG      Asia  ...                   0.511              NaN\n",
              "\n",
              "[5 rows x 60 columns]"
            ]
          },
          "metadata": {
            "tags": []
          },
          "execution_count": 89
        }
      ]
    },
    {
      "cell_type": "code",
      "metadata": {
        "id": "7qAvSSCmchEz"
      },
      "source": [
        "POL_Covid_19_case = df[df['location']=='Poland']"
      ],
      "execution_count": 90,
      "outputs": []
    },
    {
      "cell_type": "code",
      "metadata": {
        "id": "0WODM7EI5Z78"
      },
      "source": [
        "POL_Covid_19_case = POL_Covid_19_case.iloc[:,3:] "
      ],
      "execution_count": 91,
      "outputs": []
    },
    {
      "cell_type": "code",
      "metadata": {
        "colab": {
          "base_uri": "https://localhost:8080/"
        },
        "id": "PJkIkEEeAdQe",
        "outputId": "8fc7fb3f-3134-4a1b-801f-6ef1b7d0db8c"
      },
      "source": [
        "POL_Covid_19_case.isnull().sum()"
      ],
      "execution_count": 92,
      "outputs": [
        {
          "output_type": "execute_result",
          "data": {
            "text/plain": [
              "date                                       0\n",
              "total_cases                                0\n",
              "new_cases                                  0\n",
              "new_cases_smoothed                         5\n",
              "total_deaths                               8\n",
              "new_deaths                                 8\n",
              "new_deaths_smoothed                        5\n",
              "total_cases_per_million                    0\n",
              "new_cases_per_million                      0\n",
              "new_cases_smoothed_per_million             5\n",
              "total_deaths_per_million                   8\n",
              "new_deaths_per_million                     8\n",
              "new_deaths_smoothed_per_million            5\n",
              "reproduction_rate                         16\n",
              "icu_patients                             481\n",
              "icu_patients_per_million                 481\n",
              "hosp_patients                             56\n",
              "hosp_patients_per_million                 56\n",
              "weekly_icu_admissions                    481\n",
              "weekly_icu_admissions_per_million        481\n",
              "weekly_hosp_admissions                   481\n",
              "weekly_hosp_admissions_per_million       481\n",
              "new_tests                                 61\n",
              "total_tests                               59\n",
              "total_tests_per_thousand                  59\n",
              "new_tests_per_thousand                    61\n",
              "new_tests_smoothed                        66\n",
              "new_tests_smoothed_per_thousand           66\n",
              "positive_rate                             66\n",
              "tests_per_case                            66\n",
              "tests_units                               58\n",
              "total_vaccinations                       329\n",
              "people_vaccinated                        329\n",
              "people_fully_vaccinated                  348\n",
              "new_vaccinations                         357\n",
              "new_vaccinations_smoothed                301\n",
              "total_vaccinations_per_hundred           329\n",
              "people_vaccinated_per_hundred            329\n",
              "people_fully_vaccinated_per_hundred      348\n",
              "new_vaccinations_smoothed_per_million    301\n",
              "stringency_index                           2\n",
              "population                                 0\n",
              "population_density                         0\n",
              "median_age                                 0\n",
              "aged_65_older                              0\n",
              "aged_70_older                              0\n",
              "gdp_per_capita                             0\n",
              "extreme_poverty                          481\n",
              "cardiovasc_death_rate                      0\n",
              "diabetes_prevalence                        0\n",
              "female_smokers                             0\n",
              "male_smokers                               0\n",
              "handwashing_facilities                   481\n",
              "hospital_beds_per_thousand                 0\n",
              "life_expectancy                            0\n",
              "human_development_index                    0\n",
              "excess_mortality                         414\n",
              "dtype: int64"
            ]
          },
          "metadata": {
            "tags": []
          },
          "execution_count": 92
        }
      ]
    },
    {
      "cell_type": "code",
      "metadata": {
        "colab": {
          "base_uri": "https://localhost:8080/",
          "height": 307
        },
        "id": "xMfVLX4NTabG",
        "outputId": "fdaba15e-d428-4b54-c002-ff3495588401"
      },
      "source": [
        "POL_Covid_19_case.tail()"
      ],
      "execution_count": 93,
      "outputs": [
        {
          "output_type": "execute_result",
          "data": {
            "text/html": [
              "<div>\n",
              "<style scoped>\n",
              "    .dataframe tbody tr th:only-of-type {\n",
              "        vertical-align: middle;\n",
              "    }\n",
              "\n",
              "    .dataframe tbody tr th {\n",
              "        vertical-align: top;\n",
              "    }\n",
              "\n",
              "    .dataframe thead th {\n",
              "        text-align: right;\n",
              "    }\n",
              "</style>\n",
              "<table border=\"1\" class=\"dataframe\">\n",
              "  <thead>\n",
              "    <tr style=\"text-align: right;\">\n",
              "      <th></th>\n",
              "      <th>date</th>\n",
              "      <th>total_cases</th>\n",
              "      <th>new_cases</th>\n",
              "      <th>new_cases_smoothed</th>\n",
              "      <th>total_deaths</th>\n",
              "      <th>new_deaths</th>\n",
              "      <th>new_deaths_smoothed</th>\n",
              "      <th>total_cases_per_million</th>\n",
              "      <th>new_cases_per_million</th>\n",
              "      <th>new_cases_smoothed_per_million</th>\n",
              "      <th>total_deaths_per_million</th>\n",
              "      <th>new_deaths_per_million</th>\n",
              "      <th>new_deaths_smoothed_per_million</th>\n",
              "      <th>reproduction_rate</th>\n",
              "      <th>icu_patients</th>\n",
              "      <th>icu_patients_per_million</th>\n",
              "      <th>hosp_patients</th>\n",
              "      <th>hosp_patients_per_million</th>\n",
              "      <th>weekly_icu_admissions</th>\n",
              "      <th>weekly_icu_admissions_per_million</th>\n",
              "      <th>weekly_hosp_admissions</th>\n",
              "      <th>weekly_hosp_admissions_per_million</th>\n",
              "      <th>new_tests</th>\n",
              "      <th>total_tests</th>\n",
              "      <th>total_tests_per_thousand</th>\n",
              "      <th>new_tests_per_thousand</th>\n",
              "      <th>new_tests_smoothed</th>\n",
              "      <th>new_tests_smoothed_per_thousand</th>\n",
              "      <th>positive_rate</th>\n",
              "      <th>tests_per_case</th>\n",
              "      <th>tests_units</th>\n",
              "      <th>total_vaccinations</th>\n",
              "      <th>people_vaccinated</th>\n",
              "      <th>people_fully_vaccinated</th>\n",
              "      <th>new_vaccinations</th>\n",
              "      <th>new_vaccinations_smoothed</th>\n",
              "      <th>total_vaccinations_per_hundred</th>\n",
              "      <th>people_vaccinated_per_hundred</th>\n",
              "      <th>people_fully_vaccinated_per_hundred</th>\n",
              "      <th>new_vaccinations_smoothed_per_million</th>\n",
              "      <th>stringency_index</th>\n",
              "      <th>population</th>\n",
              "      <th>population_density</th>\n",
              "      <th>median_age</th>\n",
              "      <th>aged_65_older</th>\n",
              "      <th>aged_70_older</th>\n",
              "      <th>gdp_per_capita</th>\n",
              "      <th>extreme_poverty</th>\n",
              "      <th>cardiovasc_death_rate</th>\n",
              "      <th>diabetes_prevalence</th>\n",
              "      <th>female_smokers</th>\n",
              "      <th>male_smokers</th>\n",
              "      <th>handwashing_facilities</th>\n",
              "      <th>hospital_beds_per_thousand</th>\n",
              "      <th>life_expectancy</th>\n",
              "      <th>human_development_index</th>\n",
              "      <th>excess_mortality</th>\n",
              "    </tr>\n",
              "  </thead>\n",
              "  <tbody>\n",
              "    <tr>\n",
              "      <th>71729</th>\n",
              "      <td>2021-06-23</td>\n",
              "      <td>2879192.0</td>\n",
              "      <td>162.0</td>\n",
              "      <td>161.571</td>\n",
              "      <td>74893.0</td>\n",
              "      <td>35.0</td>\n",
              "      <td>29.286</td>\n",
              "      <td>76075.305</td>\n",
              "      <td>4.280</td>\n",
              "      <td>4.269</td>\n",
              "      <td>1978.856</td>\n",
              "      <td>0.925</td>\n",
              "      <td>0.774</td>\n",
              "      <td>NaN</td>\n",
              "      <td>NaN</td>\n",
              "      <td>NaN</td>\n",
              "      <td>NaN</td>\n",
              "      <td>NaN</td>\n",
              "      <td>NaN</td>\n",
              "      <td>NaN</td>\n",
              "      <td>NaN</td>\n",
              "      <td>NaN</td>\n",
              "      <td>59054.0</td>\n",
              "      <td>16734539.0</td>\n",
              "      <td>442.168</td>\n",
              "      <td>1.560</td>\n",
              "      <td>48263.0</td>\n",
              "      <td>1.275</td>\n",
              "      <td>0.003</td>\n",
              "      <td>298.7</td>\n",
              "      <td>people tested</td>\n",
              "      <td>27467853.0</td>\n",
              "      <td>16409509.0</td>\n",
              "      <td>11934134.0</td>\n",
              "      <td>389481.0</td>\n",
              "      <td>283553.0</td>\n",
              "      <td>72.58</td>\n",
              "      <td>43.36</td>\n",
              "      <td>31.53</td>\n",
              "      <td>7492.0</td>\n",
              "      <td>53.7</td>\n",
              "      <td>37846605.0</td>\n",
              "      <td>124.027</td>\n",
              "      <td>41.8</td>\n",
              "      <td>16.763</td>\n",
              "      <td>10.202</td>\n",
              "      <td>27216.445</td>\n",
              "      <td>NaN</td>\n",
              "      <td>227.331</td>\n",
              "      <td>5.91</td>\n",
              "      <td>23.3</td>\n",
              "      <td>33.1</td>\n",
              "      <td>NaN</td>\n",
              "      <td>6.62</td>\n",
              "      <td>78.73</td>\n",
              "      <td>0.88</td>\n",
              "      <td>NaN</td>\n",
              "    </tr>\n",
              "    <tr>\n",
              "      <th>71730</th>\n",
              "      <td>2021-06-24</td>\n",
              "      <td>2879336.0</td>\n",
              "      <td>144.0</td>\n",
              "      <td>151.429</td>\n",
              "      <td>74917.0</td>\n",
              "      <td>24.0</td>\n",
              "      <td>26.143</td>\n",
              "      <td>76079.109</td>\n",
              "      <td>3.805</td>\n",
              "      <td>4.001</td>\n",
              "      <td>1979.491</td>\n",
              "      <td>0.634</td>\n",
              "      <td>0.691</td>\n",
              "      <td>NaN</td>\n",
              "      <td>NaN</td>\n",
              "      <td>NaN</td>\n",
              "      <td>NaN</td>\n",
              "      <td>NaN</td>\n",
              "      <td>NaN</td>\n",
              "      <td>NaN</td>\n",
              "      <td>NaN</td>\n",
              "      <td>NaN</td>\n",
              "      <td>47622.0</td>\n",
              "      <td>16782161.0</td>\n",
              "      <td>443.426</td>\n",
              "      <td>1.258</td>\n",
              "      <td>47800.0</td>\n",
              "      <td>1.263</td>\n",
              "      <td>0.003</td>\n",
              "      <td>315.7</td>\n",
              "      <td>people tested</td>\n",
              "      <td>27621910.0</td>\n",
              "      <td>16447968.0</td>\n",
              "      <td>12052910.0</td>\n",
              "      <td>154057.0</td>\n",
              "      <td>248206.0</td>\n",
              "      <td>72.98</td>\n",
              "      <td>43.46</td>\n",
              "      <td>31.85</td>\n",
              "      <td>6558.0</td>\n",
              "      <td>53.7</td>\n",
              "      <td>37846605.0</td>\n",
              "      <td>124.027</td>\n",
              "      <td>41.8</td>\n",
              "      <td>16.763</td>\n",
              "      <td>10.202</td>\n",
              "      <td>27216.445</td>\n",
              "      <td>NaN</td>\n",
              "      <td>227.331</td>\n",
              "      <td>5.91</td>\n",
              "      <td>23.3</td>\n",
              "      <td>33.1</td>\n",
              "      <td>NaN</td>\n",
              "      <td>6.62</td>\n",
              "      <td>78.73</td>\n",
              "      <td>0.88</td>\n",
              "      <td>NaN</td>\n",
              "    </tr>\n",
              "    <tr>\n",
              "      <th>71731</th>\n",
              "      <td>2021-06-25</td>\n",
              "      <td>2879470.0</td>\n",
              "      <td>134.0</td>\n",
              "      <td>143.429</td>\n",
              "      <td>74953.0</td>\n",
              "      <td>36.0</td>\n",
              "      <td>24.429</td>\n",
              "      <td>76082.650</td>\n",
              "      <td>3.541</td>\n",
              "      <td>3.790</td>\n",
              "      <td>1980.442</td>\n",
              "      <td>0.951</td>\n",
              "      <td>0.645</td>\n",
              "      <td>NaN</td>\n",
              "      <td>NaN</td>\n",
              "      <td>NaN</td>\n",
              "      <td>NaN</td>\n",
              "      <td>NaN</td>\n",
              "      <td>NaN</td>\n",
              "      <td>NaN</td>\n",
              "      <td>NaN</td>\n",
              "      <td>NaN</td>\n",
              "      <td>NaN</td>\n",
              "      <td>NaN</td>\n",
              "      <td>NaN</td>\n",
              "      <td>NaN</td>\n",
              "      <td>NaN</td>\n",
              "      <td>NaN</td>\n",
              "      <td>NaN</td>\n",
              "      <td>NaN</td>\n",
              "      <td>NaN</td>\n",
              "      <td>NaN</td>\n",
              "      <td>NaN</td>\n",
              "      <td>NaN</td>\n",
              "      <td>NaN</td>\n",
              "      <td>254494.0</td>\n",
              "      <td>NaN</td>\n",
              "      <td>NaN</td>\n",
              "      <td>NaN</td>\n",
              "      <td>6724.0</td>\n",
              "      <td>53.7</td>\n",
              "      <td>37846605.0</td>\n",
              "      <td>124.027</td>\n",
              "      <td>41.8</td>\n",
              "      <td>16.763</td>\n",
              "      <td>10.202</td>\n",
              "      <td>27216.445</td>\n",
              "      <td>NaN</td>\n",
              "      <td>227.331</td>\n",
              "      <td>5.91</td>\n",
              "      <td>23.3</td>\n",
              "      <td>33.1</td>\n",
              "      <td>NaN</td>\n",
              "      <td>6.62</td>\n",
              "      <td>78.73</td>\n",
              "      <td>0.88</td>\n",
              "      <td>NaN</td>\n",
              "    </tr>\n",
              "    <tr>\n",
              "      <th>71732</th>\n",
              "      <td>2021-06-26</td>\n",
              "      <td>2879569.0</td>\n",
              "      <td>99.0</td>\n",
              "      <td>133.571</td>\n",
              "      <td>74974.0</td>\n",
              "      <td>21.0</td>\n",
              "      <td>21.571</td>\n",
              "      <td>76085.266</td>\n",
              "      <td>2.616</td>\n",
              "      <td>3.529</td>\n",
              "      <td>1980.997</td>\n",
              "      <td>0.555</td>\n",
              "      <td>0.570</td>\n",
              "      <td>NaN</td>\n",
              "      <td>NaN</td>\n",
              "      <td>NaN</td>\n",
              "      <td>NaN</td>\n",
              "      <td>NaN</td>\n",
              "      <td>NaN</td>\n",
              "      <td>NaN</td>\n",
              "      <td>NaN</td>\n",
              "      <td>NaN</td>\n",
              "      <td>NaN</td>\n",
              "      <td>NaN</td>\n",
              "      <td>NaN</td>\n",
              "      <td>NaN</td>\n",
              "      <td>NaN</td>\n",
              "      <td>NaN</td>\n",
              "      <td>NaN</td>\n",
              "      <td>NaN</td>\n",
              "      <td>NaN</td>\n",
              "      <td>28354710.0</td>\n",
              "      <td>16649656.0</td>\n",
              "      <td>12612947.0</td>\n",
              "      <td>NaN</td>\n",
              "      <td>276034.0</td>\n",
              "      <td>74.92</td>\n",
              "      <td>43.99</td>\n",
              "      <td>33.33</td>\n",
              "      <td>7293.0</td>\n",
              "      <td>NaN</td>\n",
              "      <td>37846605.0</td>\n",
              "      <td>124.027</td>\n",
              "      <td>41.8</td>\n",
              "      <td>16.763</td>\n",
              "      <td>10.202</td>\n",
              "      <td>27216.445</td>\n",
              "      <td>NaN</td>\n",
              "      <td>227.331</td>\n",
              "      <td>5.91</td>\n",
              "      <td>23.3</td>\n",
              "      <td>33.1</td>\n",
              "      <td>NaN</td>\n",
              "      <td>6.62</td>\n",
              "      <td>78.73</td>\n",
              "      <td>0.88</td>\n",
              "      <td>NaN</td>\n",
              "    </tr>\n",
              "    <tr>\n",
              "      <th>71733</th>\n",
              "      <td>2021-06-27</td>\n",
              "      <td>2879638.0</td>\n",
              "      <td>69.0</td>\n",
              "      <td>124.429</td>\n",
              "      <td>74979.0</td>\n",
              "      <td>5.0</td>\n",
              "      <td>21.571</td>\n",
              "      <td>76087.089</td>\n",
              "      <td>1.823</td>\n",
              "      <td>3.288</td>\n",
              "      <td>1981.129</td>\n",
              "      <td>0.132</td>\n",
              "      <td>0.570</td>\n",
              "      <td>NaN</td>\n",
              "      <td>NaN</td>\n",
              "      <td>NaN</td>\n",
              "      <td>NaN</td>\n",
              "      <td>NaN</td>\n",
              "      <td>NaN</td>\n",
              "      <td>NaN</td>\n",
              "      <td>NaN</td>\n",
              "      <td>NaN</td>\n",
              "      <td>NaN</td>\n",
              "      <td>NaN</td>\n",
              "      <td>NaN</td>\n",
              "      <td>NaN</td>\n",
              "      <td>NaN</td>\n",
              "      <td>NaN</td>\n",
              "      <td>NaN</td>\n",
              "      <td>NaN</td>\n",
              "      <td>NaN</td>\n",
              "      <td>NaN</td>\n",
              "      <td>NaN</td>\n",
              "      <td>NaN</td>\n",
              "      <td>NaN</td>\n",
              "      <td>NaN</td>\n",
              "      <td>NaN</td>\n",
              "      <td>NaN</td>\n",
              "      <td>NaN</td>\n",
              "      <td>NaN</td>\n",
              "      <td>NaN</td>\n",
              "      <td>37846605.0</td>\n",
              "      <td>124.027</td>\n",
              "      <td>41.8</td>\n",
              "      <td>16.763</td>\n",
              "      <td>10.202</td>\n",
              "      <td>27216.445</td>\n",
              "      <td>NaN</td>\n",
              "      <td>227.331</td>\n",
              "      <td>5.91</td>\n",
              "      <td>23.3</td>\n",
              "      <td>33.1</td>\n",
              "      <td>NaN</td>\n",
              "      <td>6.62</td>\n",
              "      <td>78.73</td>\n",
              "      <td>0.88</td>\n",
              "      <td>NaN</td>\n",
              "    </tr>\n",
              "  </tbody>\n",
              "</table>\n",
              "</div>"
            ],
            "text/plain": [
              "             date  total_cases  ...  human_development_index  excess_mortality\n",
              "71729  2021-06-23    2879192.0  ...                     0.88               NaN\n",
              "71730  2021-06-24    2879336.0  ...                     0.88               NaN\n",
              "71731  2021-06-25    2879470.0  ...                     0.88               NaN\n",
              "71732  2021-06-26    2879569.0  ...                     0.88               NaN\n",
              "71733  2021-06-27    2879638.0  ...                     0.88               NaN\n",
              "\n",
              "[5 rows x 57 columns]"
            ]
          },
          "metadata": {
            "tags": []
          },
          "execution_count": 93
        }
      ]
    },
    {
      "cell_type": "markdown",
      "metadata": {
        "id": "Ksm674uJd7Cg"
      },
      "source": [
        "# Confirmed Cases"
      ]
    },
    {
      "cell_type": "code",
      "metadata": {
        "colab": {
          "base_uri": "https://localhost:8080/",
          "height": 203
        },
        "id": "5bUnTTPSUlyM",
        "outputId": "783a5cb9-9ab0-4b57-95f6-6c82a4d83a0b"
      },
      "source": [
        "df_confirm = POL_Covid_19_case[['date','total_cases','total_cases_per_million']]\n",
        "df_confirm.tail()"
      ],
      "execution_count": 94,
      "outputs": [
        {
          "output_type": "execute_result",
          "data": {
            "text/html": [
              "<div>\n",
              "<style scoped>\n",
              "    .dataframe tbody tr th:only-of-type {\n",
              "        vertical-align: middle;\n",
              "    }\n",
              "\n",
              "    .dataframe tbody tr th {\n",
              "        vertical-align: top;\n",
              "    }\n",
              "\n",
              "    .dataframe thead th {\n",
              "        text-align: right;\n",
              "    }\n",
              "</style>\n",
              "<table border=\"1\" class=\"dataframe\">\n",
              "  <thead>\n",
              "    <tr style=\"text-align: right;\">\n",
              "      <th></th>\n",
              "      <th>date</th>\n",
              "      <th>total_cases</th>\n",
              "      <th>total_cases_per_million</th>\n",
              "    </tr>\n",
              "  </thead>\n",
              "  <tbody>\n",
              "    <tr>\n",
              "      <th>71729</th>\n",
              "      <td>2021-06-23</td>\n",
              "      <td>2879192.0</td>\n",
              "      <td>76075.305</td>\n",
              "    </tr>\n",
              "    <tr>\n",
              "      <th>71730</th>\n",
              "      <td>2021-06-24</td>\n",
              "      <td>2879336.0</td>\n",
              "      <td>76079.109</td>\n",
              "    </tr>\n",
              "    <tr>\n",
              "      <th>71731</th>\n",
              "      <td>2021-06-25</td>\n",
              "      <td>2879470.0</td>\n",
              "      <td>76082.650</td>\n",
              "    </tr>\n",
              "    <tr>\n",
              "      <th>71732</th>\n",
              "      <td>2021-06-26</td>\n",
              "      <td>2879569.0</td>\n",
              "      <td>76085.266</td>\n",
              "    </tr>\n",
              "    <tr>\n",
              "      <th>71733</th>\n",
              "      <td>2021-06-27</td>\n",
              "      <td>2879638.0</td>\n",
              "      <td>76087.089</td>\n",
              "    </tr>\n",
              "  </tbody>\n",
              "</table>\n",
              "</div>"
            ],
            "text/plain": [
              "             date  total_cases  total_cases_per_million\n",
              "71729  2021-06-23    2879192.0                76075.305\n",
              "71730  2021-06-24    2879336.0                76079.109\n",
              "71731  2021-06-25    2879470.0                76082.650\n",
              "71732  2021-06-26    2879569.0                76085.266\n",
              "71733  2021-06-27    2879638.0                76087.089"
            ]
          },
          "metadata": {
            "tags": []
          },
          "execution_count": 94
        }
      ]
    },
    {
      "cell_type": "markdown",
      "metadata": {
        "id": "gTd-nZC4fSve"
      },
      "source": [
        "# Death Cases"
      ]
    },
    {
      "cell_type": "code",
      "metadata": {
        "colab": {
          "base_uri": "https://localhost:8080/",
          "height": 203
        },
        "id": "6Oevj9q5VCmh",
        "outputId": "c62d4bd6-3878-4ab7-ef86-1b60804d0544"
      },
      "source": [
        "df_death = POL_Covid_19_case[['date','total_deaths','total_deaths_per_million']]\n",
        "df_death.tail()"
      ],
      "execution_count": 95,
      "outputs": [
        {
          "output_type": "execute_result",
          "data": {
            "text/html": [
              "<div>\n",
              "<style scoped>\n",
              "    .dataframe tbody tr th:only-of-type {\n",
              "        vertical-align: middle;\n",
              "    }\n",
              "\n",
              "    .dataframe tbody tr th {\n",
              "        vertical-align: top;\n",
              "    }\n",
              "\n",
              "    .dataframe thead th {\n",
              "        text-align: right;\n",
              "    }\n",
              "</style>\n",
              "<table border=\"1\" class=\"dataframe\">\n",
              "  <thead>\n",
              "    <tr style=\"text-align: right;\">\n",
              "      <th></th>\n",
              "      <th>date</th>\n",
              "      <th>total_deaths</th>\n",
              "      <th>total_deaths_per_million</th>\n",
              "    </tr>\n",
              "  </thead>\n",
              "  <tbody>\n",
              "    <tr>\n",
              "      <th>71729</th>\n",
              "      <td>2021-06-23</td>\n",
              "      <td>74893.0</td>\n",
              "      <td>1978.856</td>\n",
              "    </tr>\n",
              "    <tr>\n",
              "      <th>71730</th>\n",
              "      <td>2021-06-24</td>\n",
              "      <td>74917.0</td>\n",
              "      <td>1979.491</td>\n",
              "    </tr>\n",
              "    <tr>\n",
              "      <th>71731</th>\n",
              "      <td>2021-06-25</td>\n",
              "      <td>74953.0</td>\n",
              "      <td>1980.442</td>\n",
              "    </tr>\n",
              "    <tr>\n",
              "      <th>71732</th>\n",
              "      <td>2021-06-26</td>\n",
              "      <td>74974.0</td>\n",
              "      <td>1980.997</td>\n",
              "    </tr>\n",
              "    <tr>\n",
              "      <th>71733</th>\n",
              "      <td>2021-06-27</td>\n",
              "      <td>74979.0</td>\n",
              "      <td>1981.129</td>\n",
              "    </tr>\n",
              "  </tbody>\n",
              "</table>\n",
              "</div>"
            ],
            "text/plain": [
              "             date  total_deaths  total_deaths_per_million\n",
              "71729  2021-06-23       74893.0                  1978.856\n",
              "71730  2021-06-24       74917.0                  1979.491\n",
              "71731  2021-06-25       74953.0                  1980.442\n",
              "71732  2021-06-26       74974.0                  1980.997\n",
              "71733  2021-06-27       74979.0                  1981.129"
            ]
          },
          "metadata": {
            "tags": []
          },
          "execution_count": 95
        }
      ]
    },
    {
      "cell_type": "markdown",
      "metadata": {
        "id": "rbE-CBGJmdqq"
      },
      "source": [
        "# Other Death Reasons"
      ]
    },
    {
      "cell_type": "code",
      "metadata": {
        "colab": {
          "base_uri": "https://localhost:8080/",
          "height": 203
        },
        "id": "SwW4-2TYmlca",
        "outputId": "a8b64ca6-98dc-49bd-f467-18f98df8e578"
      },
      "source": [
        "df_otherDeath = POL_Covid_19_case[['date','cardiovasc_death_rate','diabetes_prevalence']]\n",
        "df_otherDeath.tail()"
      ],
      "execution_count": 96,
      "outputs": [
        {
          "output_type": "execute_result",
          "data": {
            "text/html": [
              "<div>\n",
              "<style scoped>\n",
              "    .dataframe tbody tr th:only-of-type {\n",
              "        vertical-align: middle;\n",
              "    }\n",
              "\n",
              "    .dataframe tbody tr th {\n",
              "        vertical-align: top;\n",
              "    }\n",
              "\n",
              "    .dataframe thead th {\n",
              "        text-align: right;\n",
              "    }\n",
              "</style>\n",
              "<table border=\"1\" class=\"dataframe\">\n",
              "  <thead>\n",
              "    <tr style=\"text-align: right;\">\n",
              "      <th></th>\n",
              "      <th>date</th>\n",
              "      <th>cardiovasc_death_rate</th>\n",
              "      <th>diabetes_prevalence</th>\n",
              "    </tr>\n",
              "  </thead>\n",
              "  <tbody>\n",
              "    <tr>\n",
              "      <th>71729</th>\n",
              "      <td>2021-06-23</td>\n",
              "      <td>227.331</td>\n",
              "      <td>5.91</td>\n",
              "    </tr>\n",
              "    <tr>\n",
              "      <th>71730</th>\n",
              "      <td>2021-06-24</td>\n",
              "      <td>227.331</td>\n",
              "      <td>5.91</td>\n",
              "    </tr>\n",
              "    <tr>\n",
              "      <th>71731</th>\n",
              "      <td>2021-06-25</td>\n",
              "      <td>227.331</td>\n",
              "      <td>5.91</td>\n",
              "    </tr>\n",
              "    <tr>\n",
              "      <th>71732</th>\n",
              "      <td>2021-06-26</td>\n",
              "      <td>227.331</td>\n",
              "      <td>5.91</td>\n",
              "    </tr>\n",
              "    <tr>\n",
              "      <th>71733</th>\n",
              "      <td>2021-06-27</td>\n",
              "      <td>227.331</td>\n",
              "      <td>5.91</td>\n",
              "    </tr>\n",
              "  </tbody>\n",
              "</table>\n",
              "</div>"
            ],
            "text/plain": [
              "             date  cardiovasc_death_rate  diabetes_prevalence\n",
              "71729  2021-06-23                227.331                 5.91\n",
              "71730  2021-06-24                227.331                 5.91\n",
              "71731  2021-06-25                227.331                 5.91\n",
              "71732  2021-06-26                227.331                 5.91\n",
              "71733  2021-06-27                227.331                 5.91"
            ]
          },
          "metadata": {
            "tags": []
          },
          "execution_count": 96
        }
      ]
    },
    {
      "cell_type": "markdown",
      "metadata": {
        "id": "8cgHm1AuhZvu"
      },
      "source": [
        "# Covid-19 TEST"
      ]
    },
    {
      "cell_type": "code",
      "metadata": {
        "colab": {
          "base_uri": "https://localhost:8080/",
          "height": 203
        },
        "id": "ktBEaMvsaICk",
        "outputId": "0917dfb9-153a-4e28-ce13-89cddd447f09"
      },
      "source": [
        "df_test = POL_Covid_19_case[['date','total_tests','total_tests_per_thousand','new_tests','new_tests_per_thousand','tests_per_case','positive_rate',]]\n",
        "df_test.tail()"
      ],
      "execution_count": 97,
      "outputs": [
        {
          "output_type": "execute_result",
          "data": {
            "text/html": [
              "<div>\n",
              "<style scoped>\n",
              "    .dataframe tbody tr th:only-of-type {\n",
              "        vertical-align: middle;\n",
              "    }\n",
              "\n",
              "    .dataframe tbody tr th {\n",
              "        vertical-align: top;\n",
              "    }\n",
              "\n",
              "    .dataframe thead th {\n",
              "        text-align: right;\n",
              "    }\n",
              "</style>\n",
              "<table border=\"1\" class=\"dataframe\">\n",
              "  <thead>\n",
              "    <tr style=\"text-align: right;\">\n",
              "      <th></th>\n",
              "      <th>date</th>\n",
              "      <th>total_tests</th>\n",
              "      <th>total_tests_per_thousand</th>\n",
              "      <th>new_tests</th>\n",
              "      <th>new_tests_per_thousand</th>\n",
              "      <th>tests_per_case</th>\n",
              "      <th>positive_rate</th>\n",
              "    </tr>\n",
              "  </thead>\n",
              "  <tbody>\n",
              "    <tr>\n",
              "      <th>71729</th>\n",
              "      <td>2021-06-23</td>\n",
              "      <td>16734539.0</td>\n",
              "      <td>442.168</td>\n",
              "      <td>59054.0</td>\n",
              "      <td>1.560</td>\n",
              "      <td>298.7</td>\n",
              "      <td>0.003</td>\n",
              "    </tr>\n",
              "    <tr>\n",
              "      <th>71730</th>\n",
              "      <td>2021-06-24</td>\n",
              "      <td>16782161.0</td>\n",
              "      <td>443.426</td>\n",
              "      <td>47622.0</td>\n",
              "      <td>1.258</td>\n",
              "      <td>315.7</td>\n",
              "      <td>0.003</td>\n",
              "    </tr>\n",
              "    <tr>\n",
              "      <th>71731</th>\n",
              "      <td>2021-06-25</td>\n",
              "      <td>NaN</td>\n",
              "      <td>NaN</td>\n",
              "      <td>NaN</td>\n",
              "      <td>NaN</td>\n",
              "      <td>NaN</td>\n",
              "      <td>NaN</td>\n",
              "    </tr>\n",
              "    <tr>\n",
              "      <th>71732</th>\n",
              "      <td>2021-06-26</td>\n",
              "      <td>NaN</td>\n",
              "      <td>NaN</td>\n",
              "      <td>NaN</td>\n",
              "      <td>NaN</td>\n",
              "      <td>NaN</td>\n",
              "      <td>NaN</td>\n",
              "    </tr>\n",
              "    <tr>\n",
              "      <th>71733</th>\n",
              "      <td>2021-06-27</td>\n",
              "      <td>NaN</td>\n",
              "      <td>NaN</td>\n",
              "      <td>NaN</td>\n",
              "      <td>NaN</td>\n",
              "      <td>NaN</td>\n",
              "      <td>NaN</td>\n",
              "    </tr>\n",
              "  </tbody>\n",
              "</table>\n",
              "</div>"
            ],
            "text/plain": [
              "             date  total_tests  ...  tests_per_case  positive_rate\n",
              "71729  2021-06-23   16734539.0  ...           298.7          0.003\n",
              "71730  2021-06-24   16782161.0  ...           315.7          0.003\n",
              "71731  2021-06-25          NaN  ...             NaN            NaN\n",
              "71732  2021-06-26          NaN  ...             NaN            NaN\n",
              "71733  2021-06-27          NaN  ...             NaN            NaN\n",
              "\n",
              "[5 rows x 7 columns]"
            ]
          },
          "metadata": {
            "tags": []
          },
          "execution_count": 97
        }
      ]
    },
    {
      "cell_type": "markdown",
      "metadata": {
        "id": "EzcObJVNiX5z"
      },
      "source": [
        "# Vaccinations"
      ]
    },
    {
      "cell_type": "code",
      "metadata": {
        "colab": {
          "base_uri": "https://localhost:8080/",
          "height": 307
        },
        "id": "SHT-JCrPh41m",
        "outputId": "86bd62de-2e5b-4e69-b24c-0c7799e45276"
      },
      "source": [
        "df_vac = POL_Covid_19_case[['date','people_vaccinated','people_fully_vaccinated','new_vaccinations','total_vaccinations','total_vaccinations_per_hundred',\n",
        "                        'total_vaccinations_per_hundred','people_vaccinated_per_hundred','people_fully_vaccinated_per_hundred']]\n",
        "df_vac.tail()"
      ],
      "execution_count": 98,
      "outputs": [
        {
          "output_type": "execute_result",
          "data": {
            "text/html": [
              "<div>\n",
              "<style scoped>\n",
              "    .dataframe tbody tr th:only-of-type {\n",
              "        vertical-align: middle;\n",
              "    }\n",
              "\n",
              "    .dataframe tbody tr th {\n",
              "        vertical-align: top;\n",
              "    }\n",
              "\n",
              "    .dataframe thead th {\n",
              "        text-align: right;\n",
              "    }\n",
              "</style>\n",
              "<table border=\"1\" class=\"dataframe\">\n",
              "  <thead>\n",
              "    <tr style=\"text-align: right;\">\n",
              "      <th></th>\n",
              "      <th>date</th>\n",
              "      <th>people_vaccinated</th>\n",
              "      <th>people_fully_vaccinated</th>\n",
              "      <th>new_vaccinations</th>\n",
              "      <th>total_vaccinations</th>\n",
              "      <th>total_vaccinations_per_hundred</th>\n",
              "      <th>total_vaccinations_per_hundred</th>\n",
              "      <th>people_vaccinated_per_hundred</th>\n",
              "      <th>people_fully_vaccinated_per_hundred</th>\n",
              "    </tr>\n",
              "  </thead>\n",
              "  <tbody>\n",
              "    <tr>\n",
              "      <th>71729</th>\n",
              "      <td>2021-06-23</td>\n",
              "      <td>16409509.0</td>\n",
              "      <td>11934134.0</td>\n",
              "      <td>389481.0</td>\n",
              "      <td>27467853.0</td>\n",
              "      <td>72.58</td>\n",
              "      <td>72.58</td>\n",
              "      <td>43.36</td>\n",
              "      <td>31.53</td>\n",
              "    </tr>\n",
              "    <tr>\n",
              "      <th>71730</th>\n",
              "      <td>2021-06-24</td>\n",
              "      <td>16447968.0</td>\n",
              "      <td>12052910.0</td>\n",
              "      <td>154057.0</td>\n",
              "      <td>27621910.0</td>\n",
              "      <td>72.98</td>\n",
              "      <td>72.98</td>\n",
              "      <td>43.46</td>\n",
              "      <td>31.85</td>\n",
              "    </tr>\n",
              "    <tr>\n",
              "      <th>71731</th>\n",
              "      <td>2021-06-25</td>\n",
              "      <td>NaN</td>\n",
              "      <td>NaN</td>\n",
              "      <td>NaN</td>\n",
              "      <td>NaN</td>\n",
              "      <td>NaN</td>\n",
              "      <td>NaN</td>\n",
              "      <td>NaN</td>\n",
              "      <td>NaN</td>\n",
              "    </tr>\n",
              "    <tr>\n",
              "      <th>71732</th>\n",
              "      <td>2021-06-26</td>\n",
              "      <td>16649656.0</td>\n",
              "      <td>12612947.0</td>\n",
              "      <td>NaN</td>\n",
              "      <td>28354710.0</td>\n",
              "      <td>74.92</td>\n",
              "      <td>74.92</td>\n",
              "      <td>43.99</td>\n",
              "      <td>33.33</td>\n",
              "    </tr>\n",
              "    <tr>\n",
              "      <th>71733</th>\n",
              "      <td>2021-06-27</td>\n",
              "      <td>NaN</td>\n",
              "      <td>NaN</td>\n",
              "      <td>NaN</td>\n",
              "      <td>NaN</td>\n",
              "      <td>NaN</td>\n",
              "      <td>NaN</td>\n",
              "      <td>NaN</td>\n",
              "      <td>NaN</td>\n",
              "    </tr>\n",
              "  </tbody>\n",
              "</table>\n",
              "</div>"
            ],
            "text/plain": [
              "             date  ...  people_fully_vaccinated_per_hundred\n",
              "71729  2021-06-23  ...                                31.53\n",
              "71730  2021-06-24  ...                                31.85\n",
              "71731  2021-06-25  ...                                  NaN\n",
              "71732  2021-06-26  ...                                33.33\n",
              "71733  2021-06-27  ...                                  NaN\n",
              "\n",
              "[5 rows x 9 columns]"
            ]
          },
          "metadata": {
            "tags": []
          },
          "execution_count": 98
        }
      ]
    },
    {
      "cell_type": "markdown",
      "metadata": {
        "id": "NNQGBQtMkigA"
      },
      "source": [
        "# Covid-19: Stringency Index\n"
      ]
    },
    {
      "cell_type": "code",
      "metadata": {
        "colab": {
          "base_uri": "https://localhost:8080/",
          "height": 203
        },
        "id": "TAcQcResjxPO",
        "outputId": "6f1c3a83-9aec-4eaf-e44a-96cb1d30bde5"
      },
      "source": [
        "df_stri = POL_Covid_19_case[['date','stringency_index','population','population_density','gdp_per_capita','extreme_poverty']]\n",
        "df_stri.tail()"
      ],
      "execution_count": 99,
      "outputs": [
        {
          "output_type": "execute_result",
          "data": {
            "text/html": [
              "<div>\n",
              "<style scoped>\n",
              "    .dataframe tbody tr th:only-of-type {\n",
              "        vertical-align: middle;\n",
              "    }\n",
              "\n",
              "    .dataframe tbody tr th {\n",
              "        vertical-align: top;\n",
              "    }\n",
              "\n",
              "    .dataframe thead th {\n",
              "        text-align: right;\n",
              "    }\n",
              "</style>\n",
              "<table border=\"1\" class=\"dataframe\">\n",
              "  <thead>\n",
              "    <tr style=\"text-align: right;\">\n",
              "      <th></th>\n",
              "      <th>date</th>\n",
              "      <th>stringency_index</th>\n",
              "      <th>population</th>\n",
              "      <th>population_density</th>\n",
              "      <th>gdp_per_capita</th>\n",
              "      <th>extreme_poverty</th>\n",
              "    </tr>\n",
              "  </thead>\n",
              "  <tbody>\n",
              "    <tr>\n",
              "      <th>71729</th>\n",
              "      <td>2021-06-23</td>\n",
              "      <td>53.7</td>\n",
              "      <td>37846605.0</td>\n",
              "      <td>124.027</td>\n",
              "      <td>27216.445</td>\n",
              "      <td>NaN</td>\n",
              "    </tr>\n",
              "    <tr>\n",
              "      <th>71730</th>\n",
              "      <td>2021-06-24</td>\n",
              "      <td>53.7</td>\n",
              "      <td>37846605.0</td>\n",
              "      <td>124.027</td>\n",
              "      <td>27216.445</td>\n",
              "      <td>NaN</td>\n",
              "    </tr>\n",
              "    <tr>\n",
              "      <th>71731</th>\n",
              "      <td>2021-06-25</td>\n",
              "      <td>53.7</td>\n",
              "      <td>37846605.0</td>\n",
              "      <td>124.027</td>\n",
              "      <td>27216.445</td>\n",
              "      <td>NaN</td>\n",
              "    </tr>\n",
              "    <tr>\n",
              "      <th>71732</th>\n",
              "      <td>2021-06-26</td>\n",
              "      <td>NaN</td>\n",
              "      <td>37846605.0</td>\n",
              "      <td>124.027</td>\n",
              "      <td>27216.445</td>\n",
              "      <td>NaN</td>\n",
              "    </tr>\n",
              "    <tr>\n",
              "      <th>71733</th>\n",
              "      <td>2021-06-27</td>\n",
              "      <td>NaN</td>\n",
              "      <td>37846605.0</td>\n",
              "      <td>124.027</td>\n",
              "      <td>27216.445</td>\n",
              "      <td>NaN</td>\n",
              "    </tr>\n",
              "  </tbody>\n",
              "</table>\n",
              "</div>"
            ],
            "text/plain": [
              "             date  stringency_index  ...  gdp_per_capita  extreme_poverty\n",
              "71729  2021-06-23              53.7  ...       27216.445              NaN\n",
              "71730  2021-06-24              53.7  ...       27216.445              NaN\n",
              "71731  2021-06-25              53.7  ...       27216.445              NaN\n",
              "71732  2021-06-26               NaN  ...       27216.445              NaN\n",
              "71733  2021-06-27               NaN  ...       27216.445              NaN\n",
              "\n",
              "[5 rows x 6 columns]"
            ]
          },
          "metadata": {
            "tags": []
          },
          "execution_count": 99
        }
      ]
    },
    {
      "cell_type": "markdown",
      "metadata": {
        "id": "C4tzGO8AnZZa"
      },
      "source": [
        "# Availability of beds in hospital and other facilities"
      ]
    },
    {
      "cell_type": "code",
      "metadata": {
        "colab": {
          "base_uri": "https://localhost:8080/",
          "height": 203
        },
        "id": "YJsvd26YnKuM",
        "outputId": "f841159e-ab10-45d7-db29-281c2c936249"
      },
      "source": [
        "df_hosFacility = POL_Covid_19_case[['date','handwashing_facilities','hospital_beds_per_thousand']]\n",
        "df_hosFacility.tail()"
      ],
      "execution_count": 100,
      "outputs": [
        {
          "output_type": "execute_result",
          "data": {
            "text/html": [
              "<div>\n",
              "<style scoped>\n",
              "    .dataframe tbody tr th:only-of-type {\n",
              "        vertical-align: middle;\n",
              "    }\n",
              "\n",
              "    .dataframe tbody tr th {\n",
              "        vertical-align: top;\n",
              "    }\n",
              "\n",
              "    .dataframe thead th {\n",
              "        text-align: right;\n",
              "    }\n",
              "</style>\n",
              "<table border=\"1\" class=\"dataframe\">\n",
              "  <thead>\n",
              "    <tr style=\"text-align: right;\">\n",
              "      <th></th>\n",
              "      <th>date</th>\n",
              "      <th>handwashing_facilities</th>\n",
              "      <th>hospital_beds_per_thousand</th>\n",
              "    </tr>\n",
              "  </thead>\n",
              "  <tbody>\n",
              "    <tr>\n",
              "      <th>71729</th>\n",
              "      <td>2021-06-23</td>\n",
              "      <td>NaN</td>\n",
              "      <td>6.62</td>\n",
              "    </tr>\n",
              "    <tr>\n",
              "      <th>71730</th>\n",
              "      <td>2021-06-24</td>\n",
              "      <td>NaN</td>\n",
              "      <td>6.62</td>\n",
              "    </tr>\n",
              "    <tr>\n",
              "      <th>71731</th>\n",
              "      <td>2021-06-25</td>\n",
              "      <td>NaN</td>\n",
              "      <td>6.62</td>\n",
              "    </tr>\n",
              "    <tr>\n",
              "      <th>71732</th>\n",
              "      <td>2021-06-26</td>\n",
              "      <td>NaN</td>\n",
              "      <td>6.62</td>\n",
              "    </tr>\n",
              "    <tr>\n",
              "      <th>71733</th>\n",
              "      <td>2021-06-27</td>\n",
              "      <td>NaN</td>\n",
              "      <td>6.62</td>\n",
              "    </tr>\n",
              "  </tbody>\n",
              "</table>\n",
              "</div>"
            ],
            "text/plain": [
              "             date  handwashing_facilities  hospital_beds_per_thousand\n",
              "71729  2021-06-23                     NaN                        6.62\n",
              "71730  2021-06-24                     NaN                        6.62\n",
              "71731  2021-06-25                     NaN                        6.62\n",
              "71732  2021-06-26                     NaN                        6.62\n",
              "71733  2021-06-27                     NaN                        6.62"
            ]
          },
          "metadata": {
            "tags": []
          },
          "execution_count": 100
        }
      ]
    },
    {
      "cell_type": "markdown",
      "metadata": {
        "id": "Fn6F9Lltn-7H"
      },
      "source": [
        "# Other\n",
        "Life expectancy, Human Development Index and Excess Mortality"
      ]
    },
    {
      "cell_type": "code",
      "metadata": {
        "colab": {
          "base_uri": "https://localhost:8080/",
          "height": 203
        },
        "id": "SERduaTun9G4",
        "outputId": "93820bb1-59fd-4e0e-9515-3bfcf9c6566c"
      },
      "source": [
        "df_Other = POL_Covid_19_case[['date','human_development_index','life_expectancy','excess_mortality']]\n",
        "df_Other.tail()"
      ],
      "execution_count": 101,
      "outputs": [
        {
          "output_type": "execute_result",
          "data": {
            "text/html": [
              "<div>\n",
              "<style scoped>\n",
              "    .dataframe tbody tr th:only-of-type {\n",
              "        vertical-align: middle;\n",
              "    }\n",
              "\n",
              "    .dataframe tbody tr th {\n",
              "        vertical-align: top;\n",
              "    }\n",
              "\n",
              "    .dataframe thead th {\n",
              "        text-align: right;\n",
              "    }\n",
              "</style>\n",
              "<table border=\"1\" class=\"dataframe\">\n",
              "  <thead>\n",
              "    <tr style=\"text-align: right;\">\n",
              "      <th></th>\n",
              "      <th>date</th>\n",
              "      <th>human_development_index</th>\n",
              "      <th>life_expectancy</th>\n",
              "      <th>excess_mortality</th>\n",
              "    </tr>\n",
              "  </thead>\n",
              "  <tbody>\n",
              "    <tr>\n",
              "      <th>71729</th>\n",
              "      <td>2021-06-23</td>\n",
              "      <td>0.88</td>\n",
              "      <td>78.73</td>\n",
              "      <td>NaN</td>\n",
              "    </tr>\n",
              "    <tr>\n",
              "      <th>71730</th>\n",
              "      <td>2021-06-24</td>\n",
              "      <td>0.88</td>\n",
              "      <td>78.73</td>\n",
              "      <td>NaN</td>\n",
              "    </tr>\n",
              "    <tr>\n",
              "      <th>71731</th>\n",
              "      <td>2021-06-25</td>\n",
              "      <td>0.88</td>\n",
              "      <td>78.73</td>\n",
              "      <td>NaN</td>\n",
              "    </tr>\n",
              "    <tr>\n",
              "      <th>71732</th>\n",
              "      <td>2021-06-26</td>\n",
              "      <td>0.88</td>\n",
              "      <td>78.73</td>\n",
              "      <td>NaN</td>\n",
              "    </tr>\n",
              "    <tr>\n",
              "      <th>71733</th>\n",
              "      <td>2021-06-27</td>\n",
              "      <td>0.88</td>\n",
              "      <td>78.73</td>\n",
              "      <td>NaN</td>\n",
              "    </tr>\n",
              "  </tbody>\n",
              "</table>\n",
              "</div>"
            ],
            "text/plain": [
              "             date  human_development_index  life_expectancy  excess_mortality\n",
              "71729  2021-06-23                     0.88            78.73               NaN\n",
              "71730  2021-06-24                     0.88            78.73               NaN\n",
              "71731  2021-06-25                     0.88            78.73               NaN\n",
              "71732  2021-06-26                     0.88            78.73               NaN\n",
              "71733  2021-06-27                     0.88            78.73               NaN"
            ]
          },
          "metadata": {
            "tags": []
          },
          "execution_count": 101
        }
      ]
    },
    {
      "cell_type": "markdown",
      "metadata": {
        "id": "cgHK9_KLqmC5"
      },
      "source": [
        "#Parse the time series data (in Poland)"
      ]
    },
    {
      "cell_type": "code",
      "metadata": {
        "id": "fHvFia72ohz3"
      },
      "source": [
        "def plot(df, figTitle):\n",
        "  df.plot(x = 'date', figsize = (13,7), linewidth = 3, title = figTitle)\n",
        "  plt.grid()\n",
        "  plt.show()"
      ],
      "execution_count": 102,
      "outputs": []
    },
    {
      "cell_type": "code",
      "metadata": {
        "colab": {
          "base_uri": "https://localhost:8080/",
          "height": 458
        },
        "id": "JvXyfuG9qNMB",
        "outputId": "4083362e-b40c-44d7-a8fe-c91a5c232aa4"
      },
      "source": [
        "# Confirmed Cases\n",
        "plot(df_confirm, 'Confirmed Covid-19 Cases in Poland')"
      ],
      "execution_count": 103,
      "outputs": [
        {
          "output_type": "display_data",
          "data": {
            "image/png": "[encoded data removed]",
            "text/plain": [
              "<Figure size 936x504 with 1 Axes>"
            ]
          },
          "metadata": {
            "tags": [],
            "needs_background": "light"
          }
        }
      ]
    },
    {
      "cell_type": "code",
      "metadata": {
        "colab": {
          "base_uri": "https://localhost:8080/",
          "height": 899
        },
        "id": "pB9gKrEVrC6l",
        "outputId": "a77720fc-e214-48f5-b203-2dc136ad406c"
      },
      "source": [
        "# Death Cases\n",
        "plot(df_death,'Number of Death Cases by Covid-19')\n",
        "plot(df_otherDeath,'Number of death rate by other reasons')"
      ],
      "execution_count": 104,
      "outputs": [
        {
          "output_type": "display_data",
          "data": {
            "image/png": "[encoded data removed]",
            "text/plain": [
              "<Figure size 936x504 with 1 Axes>"
            ]
          },
          "metadata": {
            "tags": [],
            "needs_background": "light"
          }
        },
        {
          "output_type": "display_data",
          "data": {
            "image/png": "[encoded data removed]",
            "text/plain": [
              "<Figure size 936x504 with 1 Axes>"
            ]
          },
          "metadata": {
            "tags": [],
            "needs_background": "light"
          }
        }
      ]
    },
    {
      "cell_type": "code",
      "metadata": {
        "colab": {
          "base_uri": "https://localhost:8080/",
          "height": 458
        },
        "id": "tMaeVxA0rnsS",
        "outputId": "ee3e6af7-f8d8-4ff4-f9ef-a2ff74c31fa6"
      },
      "source": [
        "# Covid-19 test\n",
        "plot(df_test, 'Number of people tested for Covid-19')"
      ],
      "execution_count": 105,
      "outputs": [
        {
          "output_type": "display_data",
          "data": {
            "image/png": "[encoded data removed]",
            "text/plain": [
              "<Figure size 936x504 with 1 Axes>"
            ]
          },
          "metadata": {
            "tags": [],
            "needs_background": "light"
          }
        }
      ]
    },
    {
      "cell_type": "code",
      "metadata": {
        "colab": {
          "base_uri": "https://localhost:8080/",
          "height": 458
        },
        "id": "8epd0FeMr_lK",
        "outputId": "38da31d7-a526-45ea-e8bc-9169b35bbe2d"
      },
      "source": [
        "#Vaccination\n",
        "plot(df_vac, 'Covid-19 Vaccination in Poland')"
      ],
      "execution_count": 106,
      "outputs": [
        {
          "output_type": "display_data",
          "data": {
            "image/png": "[encoded data removed]",
            "text/plain": [
              "<Figure size 936x504 with 1 Axes>"
            ]
          },
          "metadata": {
            "tags": [],
            "needs_background": "light"
          }
        }
      ]
    },
    {
      "cell_type": "code",
      "metadata": {
        "colab": {
          "base_uri": "https://localhost:8080/",
          "height": 458
        },
        "id": "HBhYN4fKsTPi",
        "outputId": "659bc287-889c-42f7-f8c7-85dd908046f0"
      },
      "source": [
        "#Covid-19: Stringency Index\n",
        "plot(df_stri, 'Covid-19: Stringency Index')"
      ],
      "execution_count": 107,
      "outputs": [
        {
          "output_type": "display_data",
          "data": {
            "image/png": "[encoded data removed]",
            "text/plain": [
              "<Figure size 936x504 with 1 Axes>"
            ]
          },
          "metadata": {
            "tags": [],
            "needs_background": "light"
          }
        }
      ]
    },
    {
      "cell_type": "code",
      "metadata": {
        "id": "tu0fncabtKsD"
      },
      "source": [
        ""
      ],
      "execution_count": 107,
      "outputs": []
    }
  ]
}